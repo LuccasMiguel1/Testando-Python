{
  "nbformat": 4,
  "nbformat_minor": 0,
  "metadata": {
    "colab": {
      "provenance": [],
      "authorship_tag": "ABX9TyM77X+MOf9g/dgBXTt81FwZ",
      "include_colab_link": true
    },
    "kernelspec": {
      "name": "python3",
      "display_name": "Python 3"
    },
    "language_info": {
      "name": "python"
    }
  },
  "cells": [
    {
      "cell_type": "markdown",
      "metadata": {
        "id": "view-in-github",
        "colab_type": "text"
      },
      "source": [
        "<a href=\"https://colab.research.google.com/github/LuccasMiguel1/LuccasMiguel1/blob/main/AulaPython.ipynb\" target=\"_parent\"><img src=\"https://colab.research.google.com/assets/colab-badge.svg\" alt=\"Open In Colab\"/></a>"
      ]
    },
    {
      "cell_type": "code",
      "execution_count": null,
      "metadata": {
        "colab": {
          "base_uri": "https://localhost:8080/"
        },
        "id": "4JqxN-pRhPHV",
        "outputId": "e6959780-daca-4824-cbce-40e42da41996"
      },
      "outputs": [
        {
          "output_type": "stream",
          "name": "stdout",
          "text": [
            "Hello World!!!\n",
            "         * \n",
            "        ***\n",
            "       *****\n",
            "      *******\n",
            "     *********\n",
            "    ***********\n",
            "   *************\n",
            "  ***************\n",
            "        ***\n",
            "        ***\n",
            "        ***\n",
            "Teste\n"
          ]
        }
      ],
      "source": [
        "print(\"Hello World!!!\")\n",
        "print(\"         * \\n        ***\")\n",
        "print(\"       *****\")\n",
        "print(\"      *******\")\n",
        "print(\"     *********\")\n",
        "print(\"    ***********\")\n",
        "print(\"   *************\")\n",
        "print(\"  ***************\")\n",
        "print(\"        ***\")\n",
        "print(\"        ***\")\n",
        "print(\"        ***\")\n",
        "\n",
        "a=\"Teste\"\n",
        "print(a)"
      ]
    }
  ]
}